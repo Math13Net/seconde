{
  "cells": [
    {
      "cell_type": "markdown",
      "id": "eca38e99",
      "metadata": {
        "id": "eca38e99"
      },
      "source": [
        "\n",
        "# TP IA n°1 : Classification linéaire\n",
        "\n",
        "## Objectifs pédagogiques\n",
        "- Comprendre ce qu’est un **classificateur linéaire** et ses limites.  \n",
        "- Introduire les notions de frontière de décision, de séparabilité et d’évaluation d’un modèle.  \n",
        "\n",
        "---\n",
        "\n",
        "© 2025 Christie Vassilian.  \n",
        "Ce document est protégé par la licence **CC BY-NC-ND 4.0** :  \n",
        "- Toute utilisation commerciale est interdite.  \n",
        "- Aucune modification ou diffusion n’est autorisée sans l’autorisation écrite de l’auteur.  \n",
        "- Seul un usage strictement personnel est permis.  \n"
      ]
    },
    {
      "cell_type": "markdown",
      "id": "a2797d47",
      "metadata": {
        "id": "a2797d47"
      },
      "source": [
        "---\n",
        "\n",
        "### 📜 Licence d'utilisation\n",
        "\n",
        "Ce document est protégé sous licence **Creative Commons BY-NC-ND 4.0 International**  \n",
        "🔒 **Aucune modification ni réutilisation sans autorisation explicite de l'auteur.**\n",
        "\n",
        "- 👤 Auteur : Christie Vassilian  \n",
        "- 📥 Téléchargement autorisé uniquement à usage pédagogique personnel  \n",
        "- 🚫 Réutilisation commerciale ou modification interdite  \n",
        "\n",
        "[![Licence CC BY-NC-ND](https://licensebuttons.net/l/by-nc-nd/4.0/88x31.png)](https://creativecommons.org/licenses/by-nc-nd/4.0/)\n"
      ]
    },
    {
      "cell_type": "markdown",
      "id": "8d2809ed",
      "metadata": {
        "id": "8d2809ed"
      },
      "source": [
        "# 🌟 Classificateur Linéaire Simplifié"
      ]
    },
    {
      "cell_type": "markdown",
      "id": "e0fdb8f9",
      "metadata": {
        "id": "e0fdb8f9"
      },
      "source": [
        "Ce notebook te permet de comprendre ce qu’est un **classificateur linéaire**.  \n",
        "Nous allons :\n",
        "- Créer des données simples en 2D\n",
        "- Tracer les points\n",
        "- Apprendre un classificateur linéaire\n",
        "- Visualiser la frontière de séparation"
      ]
    },
    {
      "cell_type": "code",
      "execution_count": null,
      "id": "705eab13",
      "metadata": {
        "id": "705eab13"
      },
      "outputs": [],
      "source": [
        "import numpy as np\n",
        "import matplotlib.pyplot as plt\n",
        "from sklearn.linear_model import LogisticRegression\n",
        "from sklearn.model_selection import train_test_split\n",
        "from sklearn.metrics import accuracy_score"
      ]
    },
    {
      "cell_type": "markdown",
      "id": "57a409d2",
      "metadata": {
        "id": "57a409d2"
      },
      "source": [
        "## 🔧 Génération de données"
      ]
    },
    {
      "cell_type": "markdown",
      "id": "54b91e87",
      "metadata": {
        "id": "54b91e87"
      },
      "source": [
        "## 👥 Exemple réaliste : prédire Homme ou Femme à partir de la taille et du poids"
      ]
    },
    {
      "cell_type": "code",
      "execution_count": null,
      "id": "1116585b",
      "metadata": {
        "id": "1116585b"
      },
      "outputs": [],
      "source": [
        "# Simulation : taille en cm et poids en kg\n",
        "np.random.seed(1)\n",
        "\n",
        "# Hommes : taille moyenne 175 cm, poids moyen 75 kg\n",
        "taille_h = np.random.normal(175, 6, 50)\n",
        "poids_h = np.random.normal(75, 8, 50)\n",
        "\n",
        "# Femmes : taille moyenne 162 cm, poids moyen 62 kg\n",
        "taille_f = np.random.normal(162, 5, 50)\n",
        "poids_f = np.random.normal(62, 6, 50)\n",
        "\n",
        "X = np.vstack((np.column_stack((taille_h, poids_h)),\n",
        "               np.column_stack((taille_f, poids_f))))\n",
        "y = np.array([0]*50 + [1]*50)  # 0 : Homme, 1 : Femme"
      ]
    },
    {
      "cell_type": "code",
      "execution_count": null,
      "id": "9908f110",
      "metadata": {
        "id": "9908f110"
      },
      "outputs": [],
      "source": [
        "# 🔎 Visualisation des données brutes (avant apprentissage)\n",
        "plt.scatter(X[:, 0], X[:, 1], c=y, cmap='bwr', edgecolors='k')\n",
        "plt.xlabel(\"Taille (cm)\")\n",
        "plt.ylabel(\"Poids (kg)\")\n",
        "plt.title(\"Données : taille et poids selon le genre\")\n",
        "plt.grid(True)\n",
        "plt.show()"
      ]
    },
    {
      "cell_type": "code",
      "execution_count": null,
      "id": "958772cf",
      "metadata": {
        "id": "958772cf"
      },
      "outputs": [],
      "source": [
        "model = LogisticRegression()\n",
        "model.fit(X, y)\n",
        "print(\"Score de précision :\", model.score(X, y))"
      ]
    },
    {
      "cell_type": "markdown",
      "id": "a8590bdc",
      "metadata": {
        "id": "a8590bdc"
      },
      "source": [
        "### 🔍 Visualisation du résultat\n",
        "\n",
        "Nous affichons maintenant :\n",
        "- Les points (taille, poids) colorés selon la classe (homme ou femme),\n",
        "- Et la **frontière de séparation** calculée par le modèle de régression logistique."
      ]
    },
    {
      "cell_type": "markdown",
      "id": "c2db82b8",
      "metadata": {
        "id": "c2db82b8"
      },
      "source": [
        "## ✏️ Visualisation de la frontière"
      ]
    },
    {
      "cell_type": "code",
      "execution_count": null,
      "id": "5846c205",
      "metadata": {
        "id": "5846c205"
      },
      "outputs": [],
      "source": [
        "# Visualisation de la frontière adaptée aux données\n",
        "x_min, x_max = X[:, 0].min() - 2, X[:, 0].max() + 2\n",
        "y_min, y_max = X[:, 1].min() - 2, X[:, 1].max() + 2\n",
        "\n",
        "xx, yy = np.meshgrid(np.linspace(x_min, x_max, 200),\n",
        "                     np.linspace(y_min, y_max, 200))\n",
        "grid = np.c_[xx.ravel(), yy.ravel()]\n",
        "probs = model.predict_proba(grid)[:, 1].reshape(xx.shape)\n",
        "\n",
        "plt.contourf(xx, yy, probs, levels=[0, 0.5, 1], cmap=\"bwr\", alpha=0.2)\n",
        "plt.scatter(X[:, 0], X[:, 1], c=y, cmap=\"bwr\", edgecolors='k')\n",
        "plt.xlabel(\"Taille (cm)\")\n",
        "plt.ylabel(\"Poids (kg)\")\n",
        "plt.title(\"Frontière de décision du classificateur\")\n",
        "plt.grid(True)\n",
        "plt.show()"
      ]
    },
    {
      "cell_type": "markdown",
      "id": "df51ce98",
      "metadata": {
        "id": "df51ce98"
      },
      "source": [
        "👉 Ce classificateur trace une droite qui **sépare deux groupes**. Il apprendra à faire de même dans des cas plus complexes avec les réseaux de neurones."
      ]
    },
    {
      "cell_type": "markdown",
      "id": "2441493d",
      "metadata": {
        "id": "2441493d"
      },
      "source": [
        "## 🧪 Limite du classificateur linéaire"
      ]
    },
    {
      "cell_type": "markdown",
      "id": "e320c632",
      "metadata": {
        "id": "e320c632"
      },
      "source": [
        "## 🧪 Exemple 2 : Peut-on deviner si une personne est heureuse selon son niveau de stress et d'excitation ?\n",
        "\n",
        "On simule ici deux groupes :\n",
        "- les personnes heureuses : niveau de stress **faible ou élevé**, mais excitation **moyenne**\n",
        "- les personnes non heureuses : stress **moyen**, mais excitation **faible ou élevée**\n",
        "\n",
        "Cela crée un motif **non linéaire**, qu’un classificateur linéaire ne peut pas correctement séparer."
      ]
    },
    {
      "cell_type": "code",
      "execution_count": null,
      "id": "14f46d56",
      "metadata": {
        "id": "14f46d56"
      },
      "outputs": [],
      "source": [
        "from sklearn.datasets import make_circles\n",
        "\n",
        "# Données en forme de cercles imbriqués\n",
        "X2, y2 = make_circles(n_samples=200, noise=0.1, factor=0.5, random_state=0)\n",
        "\n",
        "# Affichage\n",
        "plt.scatter(X2[:, 0], X2[:, 1], c=y2, cmap='bwr', edgecolors='k')\n",
        "plt.title(\"Données non-linéaires (cercles imbriqués)\")\n",
        "plt.xlabel(\"x1\")\n",
        "plt.ylabel(\"x2\")\n",
        "plt.grid(True)\n",
        "plt.axis('equal')\n",
        "plt.show()"
      ]
    },
    {
      "cell_type": "code",
      "execution_count": null,
      "id": "caff1448",
      "metadata": {
        "id": "caff1448"
      },
      "outputs": [],
      "source": [
        "model2 = LogisticRegression()\n",
        "model2.fit(X2, y2)\n",
        "print(\"Score de précision :\", model2.score(X2, y2))"
      ]
    },
    {
      "cell_type": "code",
      "execution_count": null,
      "id": "d16ed2b3",
      "metadata": {
        "id": "d16ed2b3"
      },
      "outputs": [],
      "source": [
        "# Visualisation de la prédiction\n",
        "xx, yy = np.meshgrid(np.linspace(-1.5, 1.5, 200), np.linspace(-1.5, 1.5, 200))\n",
        "grid = np.c_[xx.ravel(), yy.ravel()]\n",
        "probs = model2.predict_proba(grid)[:, 1].reshape(xx.shape)\n",
        "\n",
        "plt.contourf(xx, yy, probs, levels=[0, 0.5, 1], cmap=\"bwr\", alpha=0.2)\n",
        "plt.scatter(X2[:, 0], X2[:, 1], c=y2, cmap=\"bwr\", edgecolors='k')\n",
        "plt.title(\"Le classificateur linéaire échoue ici\")\n",
        "plt.xlabel(\"x1\")\n",
        "plt.ylabel(\"x2\")\n",
        "plt.grid(True)\n",
        "plt.axis('equal')\n",
        "plt.show()"
      ]
    },
    {
      "cell_type": "markdown",
      "id": "1b5059f1",
      "metadata": {
        "id": "1b5059f1"
      },
      "source": [
        "👉 Ce deuxième exemple montre que la **régression logistique ne peut tracer qu'une droite**.  \n",
        "Elle échoue donc à séparer des données en forme de cercle.\n",
        "\n",
        "C’est pour cela que l’on utilise des **modèles plus puissants comme les réseaux de neurones** : ils peuvent apprendre à tracer des **frontières complexes**, non linéaires."
      ]
    },
    {
      "cell_type": "markdown",
      "id": "7c753539",
      "metadata": {
        "id": "7c753539"
      },
      "source": [
        "## 🧠 Exercice final : À vous de jouer !\n",
        "\n",
        "On cherche à savoir si une personne est **sportive** ou non à partir de deux informations simples :\n",
        "- Son **temps moyen de sommeil par nuit** (en heures)\n",
        "- Le **nombre d'heures de sport par semaine**\n",
        "\n",
        "Les données ci-dessous sont issues d'une enquête simplifiée auprès de 100 personnes (50 sportives, 50 non sportives).\n",
        "\n",
        "### 🎯 Objectif :\n",
        "Utilisez le **code vu précédemment** pour :\n",
        "1. Entraîner un classificateur linéaire\n",
        "2. Afficher la frontière de séparation\n",
        "3. Mesurer la précision du modèle\n",
        "\n",
        "*Les données sont déjà prêtes ci-dessous, à vous de jouer !*"
      ]
    },
    {
      "cell_type": "code",
      "execution_count": null,
      "id": "7acd1b6e",
      "metadata": {
        "collapsed": true,
        "id": "7acd1b6e"
      },
      "outputs": [],
      "source": [
        "# Génération de données fictives\n",
        "np.random.seed(3)\n",
        "\n",
        "# Sportifs : dorment en moyenne 7h, font 6h de sport\n",
        "sommeil_s = np.random.normal(7, 0.5, 50)\n",
        "sport_s = np.random.normal(6, 1, 50)\n",
        "\n",
        "# Non sportifs : dorment 6.5h mais très peu de sport\n",
        "sommeil_ns = np.random.normal(6.5, 0.6, 50)\n",
        "sport_ns = np.random.normal(0.5, 0.4, 50)\n",
        "\n",
        "X3 = np.vstack((np.column_stack((sommeil_s, sport_s)),\n",
        "                np.column_stack((sommeil_ns, sport_ns))))\n",
        "y3 = np.array([1]*50 + [0]*50)  # 1 : sportif, 0 : non sportif\n",
        "\n",
        "# Visualisation des données\n",
        "plt.scatter(X3[:, 0], X3[:, 1], c=y3, cmap='bwr', edgecolors='k')\n",
        "plt.xlabel(\"Sommeil (h/nuit)\")\n",
        "plt.ylabel(\"Heures de sport (h/semaine)\")\n",
        "plt.title(\"Êtes-vous sportif ?\")\n",
        "plt.grid(True)\n",
        "plt.show()"
      ]
    },
    {
      "cell_type": "markdown",
      "id": "x-OiRUtqXMAg",
      "metadata": {
        "id": "x-OiRUtqXMAg"
      },
      "source": [
        "---\n",
        "\n",
        "### 📜 Licence d'utilisation\n",
        "\n",
        "Ce document est protégé sous licence **Creative Commons BY-NC-ND 4.0 International**  \n",
        "🔒 **Aucune modification ni réutilisation sans autorisation explicite de l'auteur.**\n",
        "\n",
        "- 👤 Auteur : Christie Vassilian  \n",
        "- 📥 Téléchargement autorisé uniquement à usage pédagogique personnel  \n",
        "- 🚫 Réutilisation commerciale ou modification interdite  \n",
        "\n",
        "[![Licence CC BY-NC-ND](https://licensebuttons.net/l/by-nc-nd/4.0/88x31.png)](https://creativecommons.org/licenses/by-nc-nd/4.0/)\n"
      ]
    }
  ],
  "metadata": {
    "colab": {
      "provenance": []
    },
    "kernelspec": {
      "display_name": "Python 3 (ipykernel)",
      "language": "python",
      "name": "python3"
    },
    "language_info": {
      "codemirror_mode": {
        "name": "ipython",
        "version": 3
      },
      "file_extension": ".py",
      "mimetype": "text/x-python",
      "name": "python",
      "nbconvert_exporter": "python",
      "pygments_lexer": "ipython3",
      "version": "3.9.18"
    }
  },
  "nbformat": 4,
  "nbformat_minor": 5
}