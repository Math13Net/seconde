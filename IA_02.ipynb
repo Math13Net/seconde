{
  "cells": [
    {
      "cell_type": "markdown",
      "source": [
        "---\n",
        "\n",
        "### 📜 Licence d'utilisation\n",
        "\n",
        "Ce document est protégé sous licence **Creative Commons BY-NC-ND 4.0 International**  \n",
        "🔒 **Aucune modification ni réutilisation sans autorisation explicite de l'auteur.**\n",
        "\n",
        "- 👤 Auteur : Christie Vassilian  \n",
        "- 📥 Téléchargement autorisé uniquement à usage pédagogique personnel  \n",
        "- 🚫 Réutilisation commerciale ou modification interdite  \n",
        "\n",
        "[![Licence CC BY-NC-ND](https://licensebuttons.net/l/by-nc-nd/4.0/88x31.png)](https://creativecommons.org/licenses/by-nc-nd/4.0/)\n",
        "\n",
        "---"
      ],
      "metadata": {
        "id": "6kuGdydZZG7u"
      },
      "id": "6kuGdydZZG7u"
    },
    {
      "cell_type": "markdown",
      "id": "b592fb25",
      "metadata": {
        "id": "b592fb25"
      },
      "source": [
        "# 🔢 Activité : Reconnaître des chiffres manuscrits avec un classificateur linéaire"
      ]
    },
    {
      "cell_type": "markdown",
      "id": "53756fad",
      "metadata": {
        "id": "53756fad"
      },
      "source": [
        "# TP IA n°2 : MNIST avec un Classificateur Linéaire\n",
        "\n",
        "## 🎯 Objectif\n",
        "\n",
        "Dans cette activité, tu vas découvrir comment un ordinateur peut apprendre à reconnaître des **chiffres manuscrits**.\n",
        "\n",
        "Nous allons utiliser un **classificateur linéaire** pour prédire un chiffre (entre 0 et 9) à partir d'une image simple.\n",
        "\n",
        "> Cette activité te permettra de comprendre les bases du machine learning avant de découvrir les réseaux de neurones.\n"
      ]
    },
    {
      "cell_type": "markdown",
      "id": "02a7c776",
      "metadata": {
        "id": "02a7c776"
      },
      "source": [
        "## 🧩 Partie 1 – Compréhension du problème"
      ]
    },
    {
      "cell_type": "markdown",
      "id": "a160a55e",
      "metadata": {
        "id": "a160a55e"
      },
      "source": [
        "Nous allons utiliser un jeu de données qui contient des **images de chiffres manuscrits**, chacun représenté par une grille de 8x8 pixels en niveaux de gris.\n",
        "\n",
        "Chaque image est associée à un chiffre (entre 0 et 9) que l'ordinateur doit apprendre à reconnaître.\n"
      ]
    },
    {
      "cell_type": "code",
      "execution_count": null,
      "id": "6e2cfefe",
      "metadata": {
        "id": "6e2cfefe"
      },
      "outputs": [],
      "source": [
        "from sklearn.datasets import load_digits\n",
        "import matplotlib.pyplot as plt\n",
        "\n",
        "digits = load_digits()\n",
        "X = digits.data\n",
        "y = digits.target\n",
        "\n",
        "# Visualiser quelques images\n",
        "fig, axes = plt.subplots(1, 6, figsize=(10, 4))\n",
        "for i, ax in enumerate(axes):\n",
        "    ax.imshow(digits.images[i], cmap='gray')\n",
        "    ax.set_title(f\"Chiffre : {digits.target[i]}\")\n",
        "    ax.axis(\"off\")\n",
        "plt.suptitle(\"Exemples d'images du jeu de données\")\n",
        "plt.show()"
      ]
    },
    {
      "cell_type": "markdown",
      "id": "de9e725c",
      "metadata": {
        "id": "de9e725c"
      },
      "source": [
        "### 🔍 Questions – Partie 1\n",
        "\n",
        "1. Qu'est-ce que le jeu de données `load_digits` ?\n",
        "2. Combien d'images contient cette base de données ?\n",
        "3. Quelle est la taille d'une image ? Combien y a-t-il de pixels au total ?\n",
        "4. Comment les images sont-elles représentées dans les données ?\n",
        "5. Observe les premières images : comment le chiffre est-il codé visuellement ?\n"
      ]
    },
    {
      "cell_type": "markdown",
      "id": "c4b30f39",
      "metadata": {
        "id": "c4b30f39"
      },
      "source": [
        "## 🧠 Partie 2 – Modélisation et apprentissage"
      ]
    },
    {
      "cell_type": "markdown",
      "id": "50ac42d4",
      "metadata": {
        "id": "50ac42d4"
      },
      "source": [
        "Nous allons maintenant construire un modèle d’apprentissage automatique (machine learning) simple, appelé **régression logistique**, pour essayer de prédire le chiffre à partir de l'image.\n"
      ]
    },
    {
      "cell_type": "code",
      "execution_count": null,
      "id": "2ef38e04",
      "metadata": {
        "id": "2ef38e04"
      },
      "outputs": [],
      "source": [
        "from sklearn.linear_model import LogisticRegression\n",
        "from sklearn.model_selection import train_test_split\n",
        "\n",
        "# Séparer les données en apprentissage et test\n",
        "X_train, X_test, y_train, y_test = train_test_split(X, y, random_state=0)\n",
        "\n",
        "# Entraîner un modèle linéaire\n",
        "model = LogisticRegression(max_iter=2000)\n",
        "model.fit(X_train, y_train)"
      ]
    },
    {
      "cell_type": "markdown",
      "id": "751abb5a",
      "metadata": {
        "id": "751abb5a"
      },
      "source": [
        "### 🧠 Questions – Partie 2\n",
        "\n",
        "6. Quel modèle de machine learning est utilisé ici ?\n",
        "7. Quelle est la commande Python utilisée pour entraîner le modèle ?\n",
        "8. Pourquoi divise-t-on les données en ensemble d'entraînement et de test ?\n",
        "9. Combien de classes différentes le modèle doit-il apprendre à distinguer ?\n",
        "10. Quelle ligne de code permet de faire une prédiction sur de nouvelles données ?\n"
      ]
    },
    {
      "cell_type": "markdown",
      "id": "de535dd9",
      "metadata": {
        "id": "de535dd9"
      },
      "source": [
        "## 📊 Partie 3 – Analyse des résultats"
      ]
    },
    {
      "cell_type": "markdown",
      "id": "8ea83ac0",
      "metadata": {
        "id": "8ea83ac0"
      },
      "source": [
        "Maintenant que le modèle est entraîné, évaluons sa performance grâce à sa **précision** (accuracy) et à une **matrice de confusion**.\n"
      ]
    },
    {
      "cell_type": "code",
      "execution_count": null,
      "id": "3ac7aed2",
      "metadata": {
        "id": "3ac7aed2"
      },
      "outputs": [],
      "source": [
        "from sklearn.metrics import accuracy_score, ConfusionMatrixDisplay\n",
        "\n",
        "# Prédiction\n",
        "y_pred = model.predict(X_test)\n",
        "\n",
        "# Précision\n",
        "print(\"Précision du modèle :\", accuracy_score(y_test, y_pred))\n",
        "\n",
        "# Matrice de confusion\n",
        "ConfusionMatrixDisplay.from_predictions(y_test, y_pred)\n",
        "plt.title(\"Matrice de confusion\")\n",
        "plt.show()"
      ]
    },
    {
      "cell_type": "markdown",
      "id": "97cf0475",
      "metadata": {
        "id": "97cf0475"
      },
      "source": [
        "### 📊 Questions – Partie 3\n",
        "\n",
        "11. Quelle est la précision du modèle ? Que signifie ce nombre ?\n",
        "12. Qu'est-ce qu'une matrice de confusion ?\n",
        "13. Que peut-on déduire de la matrice affichée dans ce notebook ?\n",
        "14. Donne un exemple de chiffre mal classé par le modèle.\n",
        "15. Que pourrait-on faire pour améliorer les performances du modèle ?\n"
      ]
    },
    {
      "cell_type": "markdown",
      "source": [
        "---\n",
        "\n",
        "### 📜 Licence d'utilisation\n",
        "\n",
        "Ce document est protégé sous licence **Creative Commons BY-NC-ND 4.0 International**  \n",
        "🔒 **Aucune modification ni réutilisation sans autorisation explicite de l'auteur.**\n",
        "\n",
        "- 👤 Auteur : Christie Vassilian  \n",
        "- 📥 Téléchargement autorisé uniquement à usage pédagogique personnel  \n",
        "- 🚫 Réutilisation commerciale ou modification interdite  \n",
        "\n",
        "[![Licence CC BY-NC-ND](https://licensebuttons.net/l/by-nc-nd/4.0/88x31.png)](https://creativecommons.org/licenses/by-nc-nd/4.0/)\n",
        "\n",
        "---\n"
      ],
      "metadata": {
        "id": "5SIhgHLSZUJ_"
      },
      "id": "5SIhgHLSZUJ_"
    }
  ],
  "metadata": {
    "colab": {
      "provenance": []
    }
  },
  "nbformat": 4,
  "nbformat_minor": 5
}