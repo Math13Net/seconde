{
 "cells": [
  {
   "cell_type": "markdown",
   "id": "d65a8340",
   "metadata": {},
   "source": [
    "# Activité : Découverte du Paradoxe de Penney"
   ]
  },
  {
   "cell_type": "markdown",
   "id": "ce525e35",
   "metadata": {},
   "source": [
    "\n",
    "Ce notebook accompagne l'activité sur le paradoxe de Penney. Vous y trouverez les programmes Python nécessaires pour réaliser des simulations autour des séquences de pile ou face. \n",
    "Ces programmes vous aideront à mieux comprendre les concepts étudiés en classe et à visualiser les résultats expérimentaux.\n",
    "    "
   ]
  },
  {
   "cell_type": "markdown",
   "id": "3871b2d3",
   "metadata": {},
   "source": [
    "## Simulation expérimentale avec 2 lancers"
   ]
  },
  {
   "cell_type": "code",
   "execution_count": 2,
   "id": "0d5c4e69",
   "metadata": {},
   "outputs": [
    {
     "name": "stdout",
     "output_type": "stream",
     "text": [
      "PF wins: 762 times (76.20%)\n",
      "FF wins: 238 times (23.80%)\n"
     ]
    }
   ],
   "source": [
    "\n",
    "import random\n",
    "\n",
    "def simulate_2_tosses(n_simulations=1000):\n",
    "    outcomes = ['PF', 'FF']\n",
    "    wins_PF = 0\n",
    "    wins_FF = 0\n",
    "    \n",
    "    for _ in range(n_simulations):\n",
    "        tosses = ''\n",
    "        while len(tosses) < 2 or ('PF' not in tosses and 'FF' not in tosses):\n",
    "            tosses += random.choice(['P', 'F'])\n",
    "        \n",
    "        if 'PF' in tosses:\n",
    "            wins_PF += 1\n",
    "        elif 'FF' in tosses:\n",
    "            wins_FF += 1\n",
    "    \n",
    "    print(f\"PF wins: {wins_PF} times ({wins_PF/n_simulations:.2%})\")\n",
    "    print(f\"FF wins: {wins_FF} times ({wins_FF/n_simulations:.2%})\")\n",
    "\n",
    "# Utilisation :\n",
    "simulate_2_tosses()\n",
    "    "
   ]
  },
  {
   "cell_type": "markdown",
   "id": "b4ba51ec",
   "metadata": {},
   "source": [
    "## Simulation expérimentale avec 3 lancers"
   ]
  },
  {
   "cell_type": "code",
   "execution_count": 3,
   "id": "a236ef62",
   "metadata": {},
   "outputs": [
    {
     "name": "stdout",
     "output_type": "stream",
     "text": [
      "FFP wins: 254 times (25.40%)\n",
      "PFF wins: 746 times (74.60%)\n"
     ]
    }
   ],
   "source": [
    "\n",
    "def simulate_3_tosses(seq_A='FFP', seq_B='PFF', n_simulations=1000):\n",
    "    wins_A = 0\n",
    "    wins_B = 0\n",
    "    \n",
    "    for _ in range(n_simulations):\n",
    "        tosses = ''\n",
    "        while len(tosses) < 3 or (seq_A not in tosses and seq_B not in tosses):\n",
    "            tosses += random.choice(['P', 'F'])\n",
    "        \n",
    "        if seq_A in tosses and (seq_B not in tosses or tosses.index(seq_A) < tosses.index(seq_B)):\n",
    "            wins_A += 1\n",
    "        elif seq_B in tosses:\n",
    "            wins_B += 1\n",
    "    \n",
    "    print(f\"{seq_A} wins: {wins_A} times ({wins_A/n_simulations:.2%})\")\n",
    "    print(f\"{seq_B} wins: {wins_B} times ({wins_B/n_simulations:.2%})\")\n",
    "\n",
    "# Utilisation :\n",
    "simulate_3_tosses('FFP', 'PFF', 1000)\n",
    "    "
   ]
  },
  {
   "cell_type": "markdown",
   "id": "99ea249f",
   "metadata": {},
   "source": [
    "## Simulation généralisée entre séquences de longueur variable"
   ]
  },
  {
   "cell_type": "code",
   "execution_count": 22,
   "id": "9c91e704",
   "metadata": {},
   "outputs": [
    {
     "name": "stdout",
     "output_type": "stream",
     "text": [
      "PFFF wins: 875 times (87.50%)\n",
      "FFF wins: 125 times (12.50%)\n"
     ]
    }
   ],
   "source": [
    "\n",
    "def simulate_general_tosses(seq_A, seq_B, n_simulations=1000):\n",
    "    wins_A = 0\n",
    "    wins_B = 0\n",
    "    \n",
    "    for _ in range(n_simulations):\n",
    "        tosses = ''\n",
    "        while len(tosses) < max(len(seq_A), len(seq_B)) or (seq_A not in tosses and seq_B not in tosses):\n",
    "            tosses += random.choice(['P', 'F'])\n",
    "        \n",
    "        if seq_A in tosses and (seq_B not in tosses or tosses.index(seq_A) < tosses.index(seq_B)):\n",
    "            wins_A += 1\n",
    "        elif seq_B in tosses:\n",
    "            wins_B += 1\n",
    "    \n",
    "    print(f\"{seq_A} wins: {wins_A} times ({wins_A/n_simulations:.2%})\")\n",
    "    print(f\"{seq_B} wins: {wins_B} times ({wins_B/n_simulations:.2%})\")\n",
    "\n",
    "# Utilisation :\n",
    "simulate_general_tosses('PFFF', 'FFF', 1000)\n",
    "    "
   ]
  },
  {
   "cell_type": "markdown",
   "id": "97e4aef7",
   "metadata": {},
   "source": [
    "\n",
    "## Conclusion\n",
    "\n",
    "En utilisant ces programmes, vous pouvez simuler des compétitions entre différentes séquences de pile ou face. \n",
    "Les résultats expérimentaux devraient confirmer les notions étudiées en classe, tout en mettant en évidence les aspects parfois contre-intuitifs des probabilités.\n",
    "    "
   ]
  }
 ],
 "metadata": {
  "kernelspec": {
   "display_name": "Python 3 (ipykernel)",
   "language": "python",
   "name": "python3"
  },
  "language_info": {
   "codemirror_mode": {
    "name": "ipython",
    "version": 3
   },
   "file_extension": ".py",
   "mimetype": "text/x-python",
   "name": "python",
   "nbconvert_exporter": "python",
   "pygments_lexer": "ipython3",
   "version": "3.9.18"
  }
 },
 "nbformat": 4,
 "nbformat_minor": 5
}
